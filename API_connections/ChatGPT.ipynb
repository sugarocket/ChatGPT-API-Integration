{
 "cells": [
  {
   "cell_type": "code",
   "execution_count": 1,
   "id": "34c8d8df",
   "metadata": {},
   "outputs": [],
   "source": [
    "import os\n",
    "import openai\n",
    "import time\n",
    "# Load your API key from an environment variable or secret management service\n",
    "openai.api_key = (\"API-KEY\")"
   ]
  },
  {
   "cell_type": "markdown",
   "id": "95e8664f",
   "metadata": {},
   "source": [
    "# Generate completions using the text-davinci-003 model"
   ]
  },
  {
   "cell_type": "code",
   "execution_count": 33,
   "id": "7dbaa238",
   "metadata": {},
   "outputs": [
    {
     "name": "stdout",
     "output_type": "stream",
     "text": [
      "\n",
      "\n",
      "ChatGPT is a natural language processing (NLP) system that can generate human-like conversations in response to user input. It is likely to replace some customer service jobs, as it can provide automated responses to customer queries and complaints. Additionally, ChatGPT can be used for other customer-facing tasks, such as providing product recommendations or answering frequently asked questions.\n",
      "Running time: 2.8181350231170654\n"
     ]
    }
   ],
   "source": [
    "start = time.time()\n",
    "completions = openai.Completion.create(\n",
    "    engine=\"text-davinci-003\",\n",
    "    prompt=\"What job will be replaced by ChatGPT, why?\", max_tokens=100, n=1, stop=None, \n",
    "    temperature=0.5,\n",
    ")\n",
    "# Print the generated text\n",
    "for choice in completions.choices:\n",
    "    print(choice.text)\n",
    "    \n",
    "end = time.time()\n",
    "print('Running time:',end - start)"
   ]
  },
  {
   "cell_type": "markdown",
   "id": "8e67f89e",
   "metadata": {},
   "source": [
    "# Generate completions using the gpt-3.5-turbo model"
   ]
  },
  {
   "cell_type": "code",
   "execution_count": 34,
   "id": "e458daa2",
   "metadata": {},
   "outputs": [
    {
     "name": "stdout",
     "output_type": "stream",
     "text": [
      "\n",
      "\n",
      "As an AI language model, ChatGPT can replace certain customer service jobs that involve responding to common queries and providing basic information. This is because ChatGPT can understand natural language and provide accurate and quick responses to customers, without the need for human intervention. However, it is unlikely that ChatGPT will completely replace customer service jobs, as there will always be a need for human interaction and personalized support in certain situations.\n",
      "Running time: 1.6751148700714111\n"
     ]
    }
   ],
   "source": [
    "start = time.time()\n",
    "completion = openai.ChatCompletion.create(\n",
    "  model=\"gpt-3.5-turbo\", max_tokens=100,    n=1,    stop=None,    temperature=0.5,\n",
    "  messages=[{\"role\": \"user\", \"content\": \"What job will be replaced by ChatGPT, why?\"}]\n",
    ")\n",
    "# Print the generated text\n",
    "for choice in completion.choices:\n",
    "    print(choice.message.content)\n",
    "    \n",
    "end = time.time()\n",
    "print('Running time:',end - start)"
   ]
  },
  {
   "cell_type": "code",
   "execution_count": 41,
   "id": "1c419e06",
   "metadata": {},
   "outputs": [
    {
     "name": "stdout",
     "output_type": "stream",
     "text": [
      "[<OpenAIObject at 0x7ff4dff810e0> JSON: {\n",
      "  \"finish_reason\": \"stop\",\n",
      "  \"index\": 0,\n",
      "  \"logprobs\": null,\n",
      "  \"text\": \"\\n\\nChatGPT is a natural language processing (NLP) system that can generate human-like conversations in response to user input. It is likely to replace some customer service jobs, as it can provide automated responses to customer queries and complaints. Additionally, ChatGPT can be used for other customer-facing tasks, such as providing product recommendations or answering frequently asked questions.\"\n",
      "}]\n"
     ]
    }
   ],
   "source": [
    "print(completions.choices)"
   ]
  },
  {
   "cell_type": "code",
   "execution_count": 42,
   "id": "5bd1bdd1",
   "metadata": {},
   "outputs": [
    {
     "name": "stdout",
     "output_type": "stream",
     "text": [
      "[<OpenAIObject at 0x7ff4dff979a0> JSON: {\n",
      "  \"finish_reason\": \"stop\",\n",
      "  \"index\": 0,\n",
      "  \"message\": {\n",
      "    \"content\": \"\\n\\nAs an AI language model, ChatGPT can replace certain customer service jobs that involve responding to common queries and providing basic information. This is because ChatGPT can understand natural language and provide accurate and quick responses to customers, without the need for human intervention. However, it is unlikely that ChatGPT will completely replace customer service jobs, as there will always be a need for human interaction and personalized support in certain situations.\",\n",
      "    \"role\": \"assistant\"\n",
      "  }\n",
      "}]\n"
     ]
    }
   ],
   "source": [
    "print(completion.choices)"
   ]
  },
  {
   "cell_type": "code",
   "execution_count": null,
   "id": "93d64a32",
   "metadata": {},
   "outputs": [],
   "source": []
  }
 ],
 "metadata": {
  "kernelspec": {
   "display_name": "Python 3 (ipykernel)",
   "language": "python",
   "name": "python3"
  },
  "language_info": {
   "codemirror_mode": {
    "name": "ipython",
    "version": 3
   },
   "file_extension": ".py",
   "mimetype": "text/x-python",
   "name": "python",
   "nbconvert_exporter": "python",
   "pygments_lexer": "ipython3",
   "version": "3.8.2"
  }
 },
 "nbformat": 4,
 "nbformat_minor": 5
}
